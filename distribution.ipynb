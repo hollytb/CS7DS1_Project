{
 "cells": [
  {
   "cell_type": "code",
   "execution_count": 10,
   "metadata": {
    "collapsed": true,
    "pycharm": {
     "name": "#%%\n"
    }
   },
   "outputs": [],
   "source": [
    "import numpy as np\n",
    "import pandas as pd\n",
    "import seaborn as sns\n",
    "from fitter import Fitter, get_common_distributions, get_distributions"
   ]
  },
  {
   "cell_type": "code",
   "execution_count": 12,
   "metadata": {
    "pycharm": {
     "name": "#%%\n"
    }
   },
   "outputs": [
    {
     "data": {
      "text/plain": "   EST  EST_duration  Temperature_failure  Oxygen_failure  pH_failure\n0    1          7200                 37.0             5.0         7.2\n1    1          7200                 37.0             5.0         7.2\n2    1          7200                 36.9             5.0         7.4\n3    1          7200                 36.5             5.0         7.3\n4    1          7200                 36.5             5.0         7.2",
      "text/html": "<div>\n<style scoped>\n    .dataframe tbody tr th:only-of-type {\n        vertical-align: middle;\n    }\n\n    .dataframe tbody tr th {\n        vertical-align: top;\n    }\n\n    .dataframe thead th {\n        text-align: right;\n    }\n</style>\n<table border=\"1\" class=\"dataframe\">\n  <thead>\n    <tr style=\"text-align: right;\">\n      <th></th>\n      <th>EST</th>\n      <th>EST_duration</th>\n      <th>Temperature_failure</th>\n      <th>Oxygen_failure</th>\n      <th>pH_failure</th>\n    </tr>\n  </thead>\n  <tbody>\n    <tr>\n      <th>0</th>\n      <td>1</td>\n      <td>7200</td>\n      <td>37.0</td>\n      <td>5.0</td>\n      <td>7.2</td>\n    </tr>\n    <tr>\n      <th>1</th>\n      <td>1</td>\n      <td>7200</td>\n      <td>37.0</td>\n      <td>5.0</td>\n      <td>7.2</td>\n    </tr>\n    <tr>\n      <th>2</th>\n      <td>1</td>\n      <td>7200</td>\n      <td>36.9</td>\n      <td>5.0</td>\n      <td>7.4</td>\n    </tr>\n    <tr>\n      <th>3</th>\n      <td>1</td>\n      <td>7200</td>\n      <td>36.5</td>\n      <td>5.0</td>\n      <td>7.3</td>\n    </tr>\n    <tr>\n      <th>4</th>\n      <td>1</td>\n      <td>7200</td>\n      <td>36.5</td>\n      <td>5.0</td>\n      <td>7.2</td>\n    </tr>\n  </tbody>\n</table>\n</div>"
     },
     "execution_count": 12,
     "metadata": {},
     "output_type": "execute_result"
    }
   ],
   "source": [
    "dataset = pd.read_csv(\"data/est_test_data.csv\")\n",
    "dataset.head()"
   ]
  },
  {
   "cell_type": "code",
   "execution_count": 7,
   "metadata": {
    "pycharm": {
     "name": "#%%\n"
    }
   },
   "outputs": [
    {
     "name": "stdout",
     "output_type": "stream",
     "text": [
      "<class 'pandas.core.frame.DataFrame'>\n",
      "RangeIndex: 20 entries, 0 to 19\n",
      "Data columns (total 5 columns):\n",
      " #   Column               Non-Null Count  Dtype  \n",
      "---  ------               --------------  -----  \n",
      " 0   EST                  20 non-null     int64  \n",
      " 1   EST_duration         20 non-null     int64  \n",
      " 2   Temperature_failure  20 non-null     float64\n",
      " 3   Oxygen_failure       20 non-null     float64\n",
      " 4   pH_failure           20 non-null     float64\n",
      "dtypes: float64(3), int64(2)\n",
      "memory usage: 928.0 bytes\n"
     ]
    }
   ],
   "source": [
    "dataset.info()"
   ]
  },
  {
   "cell_type": "code",
   "execution_count": 8,
   "metadata": {
    "pycharm": {
     "name": "#%%\n"
    }
   },
   "outputs": [
    {
     "data": {
      "text/plain": [
       "<seaborn.axisgrid.FacetGrid at 0x7f883b1104c0>"
      ]
     },
     "execution_count": 8,
     "metadata": {},
     "output_type": "execute_result"
    },
    {
     "data": {
      "image/png": "[encoded data removed]",
      "text/plain": [
       "<Figure size 540x360 with 1 Axes>"
      ]
     },
     "metadata": {},
     "output_type": "display_data"
    }
   ],
   "source": [
    "sns.set_style('white')\n",
    "sns.set_context(\"paper\", font_scale = 2)\n",
    "\n",
    "sns.displot(data=dataset, x=\"Temperature_failure\", kind=\"hist\", bins = 100, aspect = 1.5)"
   ]
  },
  {
   "cell_type": "code",
   "execution_count": 9,
   "metadata": {
    "pycharm": {
     "name": "#%%\n"
    }
   },
   "outputs": [],
   "source": [
    "# Data Preparation\n",
    "temperature_failure = dataset['Temperature_failure'].values"
   ]
  },
  {
   "cell_type": "code",
   "execution_count": 10,
   "metadata": {
    "pycharm": {
     "name": "#%%\n"
    }
   },
   "outputs": [
    {
     "data": {
      "text/html": [
       "<div>\n",
       "<style scoped>\n",
       "    .dataframe tbody tr th:only-of-type {\n",
       "        vertical-align: middle;\n",
       "    }\n",
       "\n",
       "    .dataframe tbody tr th {\n",
       "        vertical-align: top;\n",
       "    }\n",
       "\n",
       "    .dataframe thead th {\n",
       "        text-align: right;\n",
       "    }\n",
       "</style>\n",
       "<table border=\"1\" class=\"dataframe\">\n",
       "  <thead>\n",
       "    <tr style=\"text-align: right;\">\n",
       "      <th></th>\n",
       "      <th>sumsquare_error</th>\n",
       "      <th>aic</th>\n",
       "      <th>bic</th>\n",
       "      <th>kl_div</th>\n",
       "    </tr>\n",
       "  </thead>\n",
       "  <tbody>\n",
       "    <tr>\n",
       "      <th>beta</th>\n",
       "      <td>340.898797</td>\n",
       "      <td>168.057389</td>\n",
       "      <td>68.699997</td>\n",
       "      <td>inf</td>\n",
       "    </tr>\n",
       "    <tr>\n",
       "      <th>lognorm</th>\n",
       "      <td>349.027776</td>\n",
       "      <td>184.009368</td>\n",
       "      <td>66.175582</td>\n",
       "      <td>inf</td>\n",
       "    </tr>\n",
       "    <tr>\n",
       "      <th>gamma</th>\n",
       "      <td>349.213960</td>\n",
       "      <td>182.698011</td>\n",
       "      <td>66.186247</td>\n",
       "      <td>inf</td>\n",
       "    </tr>\n",
       "    <tr>\n",
       "      <th>burr</th>\n",
       "      <td>349.490200</td>\n",
       "      <td>190.294411</td>\n",
       "      <td>69.197794</td>\n",
       "      <td>inf</td>\n",
       "    </tr>\n",
       "    <tr>\n",
       "      <th>norm</th>\n",
       "      <td>349.607410</td>\n",
       "      <td>179.694797</td>\n",
       "      <td>63.213036</td>\n",
       "      <td>inf</td>\n",
       "    </tr>\n",
       "  </tbody>\n",
       "</table>\n",
       "</div>"
      ],
      "text/plain": [
       "         sumsquare_error         aic        bic  kl_div\n",
       "beta          340.898797  168.057389  68.699997     inf\n",
       "lognorm       349.027776  184.009368  66.175582     inf\n",
       "gamma         349.213960  182.698011  66.186247     inf\n",
       "burr          349.490200  190.294411  69.197794     inf\n",
       "norm          349.607410  179.694797  63.213036     inf"
      ]
     },
     "execution_count": 10,
     "metadata": {},
     "output_type": "execute_result"
    },
    {
     "data": {
      "image/png": "[encoded data removed]",
      "text/plain": [
       "<Figure size 432x288 with 1 Axes>"
      ]
     },
     "metadata": {},
     "output_type": "display_data"
    }
   ],
   "source": [
    "# Source: https://medium.com/the-researchers-guide/finding-the-best-distribution-that-fits-your-data-using-pythons-fitter-library-319a5a0972e9\n",
    "# Fitting distributions\n",
    "f = Fitter(temperature_failure,\n",
    "           distributions=['gamma',\n",
    "                          'lognorm',\n",
    "                          \"beta\",\n",
    "                          \"burr\",\n",
    "                          \"norm\"])\n",
    "f.fit()\n",
    "f.summary()"
   ]
  },
  {
   "cell_type": "code",
   "execution_count": 13,
   "outputs": [
    {
     "data": {
      "text/plain": "array([[1.00e+00, 7.20e+03, 3.70e+01, 5.00e+00, 7.20e+00],\n       [1.00e+00, 7.20e+03, 3.70e+01, 5.00e+00, 7.20e+00],\n       [1.00e+00, 7.20e+03, 3.69e+01, 5.00e+00, 7.40e+00],\n       [1.00e+00, 7.20e+03, 3.65e+01, 5.00e+00, 7.30e+00],\n       [1.00e+00, 7.20e+03, 3.65e+01, 5.00e+00, 7.20e+00],\n       [1.00e+00, 7.20e+03, 3.70e+01, 5.00e+00, 7.40e+00],\n       [1.00e+00, 7.20e+03, 3.70e+01, 5.00e+00, 7.40e+00],\n       [1.00e+00, 7.20e+03, 3.68e+01, 5.00e+00, 7.30e+00],\n       [0.00e+00, 4.32e+03, 3.66e+01, 4.00e+00, 7.20e+00],\n       [0.00e+00, 2.88e+03, 3.60e+01, 2.00e+00, 6.90e+00],\n       [0.00e+00, 5.76e+03, 3.65e+01, 5.00e+00, 6.90e+00],\n       [0.00e+00, 2.88e+03, 3.62e+01, 5.00e+00, 7.20e+00],\n       [0.00e+00, 4.32e+03, 3.70e+01, 4.50e+00, 7.40e+00],\n       [0.00e+00, 2.88e+03, 3.61e+01, 2.00e+00, 6.90e+00],\n       [0.00e+00, 2.88e+03, 3.76e+01, 3.00e+00, 7.30e+00],\n       [0.00e+00, 4.32e+03, 3.79e+01, 5.00e+00, 7.20e+00],\n       [1.00e+00, 7.20e+03, 3.69e+01, 5.00e+00, 7.40e+00],\n       [0.00e+00, 2.88e+03, 3.80e+01, 2.00e+00, 6.80e+00],\n       [0.00e+00, 7.20e+03, 3.80e+01, 5.00e+00, 7.30e+00],\n       [0.00e+00, 5.76e+03, 3.70e+01, 2.00e+00, 6.90e+00]])"
     },
     "execution_count": 13,
     "metadata": {},
     "output_type": "execute_result"
    }
   ],
   "source": [
    "x = dataset.to_numpy()\n",
    "x"
   ],
   "metadata": {
    "collapsed": false,
    "pycharm": {
     "name": "#%%\n"
    }
   }
  },
  {
   "cell_type": "code",
   "execution_count": 14,
   "outputs": [
    {
     "data": {
      "text/plain": "<Figure size 432x288 with 1 Axes>",
      "image/png": "[encoded data removed]"
     },
     "metadata": {
      "needs_background": "light"
     },
     "output_type": "display_data"
    }
   ],
   "source": [
    "# Attemping gamma dist with varying alpha and beta\n",
    "import numpy as np\n",
    "import scipy.stats as stats\n",
    "import matplotlib.pyplot as plt\n",
    "\n",
    "#https://www.statology.org/gamma-distribution-in-python/\n",
    "#define three Gamma distributions\n",
    "y1 = stats.gamma.pdf(x, a=5, scale=3)\n",
    "y2 = stats.gamma.pdf(x, a=2, scale=5)\n",
    "y3 = stats.gamma.pdf(x, a=4, scale=2)\n",
    "\n",
    "#add lines for each distribution\n",
    "plt.plot(x, y1, label='shape=5, scale=3')\n",
    "plt.plot(x, y2, label='shape=2, scale=5')\n",
    "plt.plot(x, y3, label='shape=4, scale=2')\n",
    "\n",
    "#add legend\n",
    "plt.legend()\n",
    "\n",
    "#display plot\n",
    "plt.show()\n",
    "\n"
   ],
   "metadata": {
    "collapsed": false,
    "pycharm": {
     "name": "#%%\n"
    }
   }
  }
 ],
 "metadata": {
  "kernelspec": {
   "display_name": "Python 3 (ipykernel)",
   "language": "python",
   "name": "python3"
  },
  "language_info": {
   "codemirror_mode": {
    "name": "ipython",
    "version": 3
   },
   "file_extension": ".py",
   "mimetype": "text/x-python",
   "name": "python",
   "nbconvert_exporter": "python",
   "pygments_lexer": "ipython3",
   "version": "3.9.7"
  }
 },
 "nbformat": 4,
 "nbformat_minor": 1
}